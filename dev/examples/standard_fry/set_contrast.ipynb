{
 "cells": [
  {
   "cell_type": "markdown",
   "source": [
    "# set_contrast"
   ],
   "metadata": {}
  },
  {
   "outputs": [
    {
     "output_type": "execute_result",
     "data": {
      "text/plain": "256×256 Array{RGB{N0f8},2} with eltype ColorTypes.RGB{FixedPointNumbers.N0f8}:\n RGB{N0f8}(0.0,0.0,0.0)  RGB{N0f8}(0.0,0.0,0.0)  …  RGB{N0f8}(0.0,0.0,0.0)\n RGB{N0f8}(0.0,0.0,0.0)  RGB{N0f8}(0.0,0.0,0.0)     RGB{N0f8}(0.0,0.0,0.0)\n RGB{N0f8}(0.0,0.0,0.0)  RGB{N0f8}(0.0,0.0,0.0)     RGB{N0f8}(0.0,0.0,0.0)\n RGB{N0f8}(0.0,0.0,0.0)  RGB{N0f8}(0.0,0.0,0.0)     RGB{N0f8}(0.0,0.0,0.0)\n RGB{N0f8}(0.0,0.0,0.0)  RGB{N0f8}(0.0,0.0,0.0)     RGB{N0f8}(0.0,0.0,0.0)\n RGB{N0f8}(0.0,0.0,0.0)  RGB{N0f8}(0.0,0.0,0.0)  …  RGB{N0f8}(0.0,0.0,0.0)\n RGB{N0f8}(0.0,0.0,0.0)  RGB{N0f8}(0.0,0.0,0.0)     RGB{N0f8}(0.0,0.0,0.0)\n RGB{N0f8}(0.0,0.0,0.0)  RGB{N0f8}(0.0,0.0,0.0)     RGB{N0f8}(0.0,0.0,0.0)\n RGB{N0f8}(0.0,0.0,0.0)  RGB{N0f8}(0.0,0.0,0.0)     RGB{N0f8}(0.0,0.0,0.0)\n RGB{N0f8}(0.0,0.0,0.0)  RGB{N0f8}(0.0,0.0,0.0)     RGB{N0f8}(0.0,0.0,0.0)\n ⋮                                               ⋱  ⋮\n RGB{N0f8}(0.0,0.0,0.0)  RGB{N0f8}(0.0,0.0,0.0)     RGB{N0f8}(0.0,0.0,0.0)\n RGB{N0f8}(0.0,0.0,0.0)  RGB{N0f8}(0.0,0.0,0.0)     RGB{N0f8}(0.0,0.0,0.0)\n RGB{N0f8}(0.0,0.0,0.0)  RGB{N0f8}(0.0,0.0,0.0)     RGB{N0f8}(0.0,0.0,0.0)\n RGB{N0f8}(0.0,0.0,0.0)  RGB{N0f8}(0.0,0.0,0.0)  …  RGB{N0f8}(0.0,0.0,0.0)\n RGB{N0f8}(0.0,0.0,0.0)  RGB{N0f8}(0.0,0.0,0.0)     RGB{N0f8}(0.0,0.0,0.0)\n RGB{N0f8}(0.0,0.0,0.0)  RGB{N0f8}(0.0,0.0,0.0)     RGB{N0f8}(0.0,0.0,0.0)\n RGB{N0f8}(0.0,0.0,0.0)  RGB{N0f8}(0.0,0.0,0.0)     RGB{N0f8}(0.0,0.0,0.0)\n RGB{N0f8}(0.0,0.0,0.0)  RGB{N0f8}(0.0,0.0,0.0)     RGB{N0f8}(0.0,0.0,0.0)\n RGB{N0f8}(0.0,0.0,0.0)  RGB{N0f8}(0.0,0.0,0.0)  …  RGB{N0f8}(0.0,0.0,0.0)",
      "image/png": "[encoded data removed]",
      "text/html": [
       "<img src=\"data:image/png;base64,iVBORw0KGgoAAAANSUhEUgAAAQAAAAEACAIAAADTED8xAAAAAXNSR0IArs4c6QAAAARnQU1BAACxjwv8YQUAAAAgY0hSTQAAeiYAAICEAAD6AAAAgOgAAHUwAADqYAAAOpgAABdwnLpRPAAAAnZJREFUeAHtwTEBAAAAg6Ad9s+8IAosEWOJGEvEWCLGEjGWiLFEjCViLBFjiRhLxFgixhIxloixRIwlYiwRY4kYS8RYIsYSMZaIsUSMJWIsEWOJGEvEWCLGEjGWiLFEjCViLBFjiRhLxFgixhIxloixRIwlYiwRY4kYS8RYIsYSMZaIsUSMJWIsEWOJGEvEWCLGEjGWiLFEjCViLBFjiRhLxFgixhIxloixRIwlYiwRY4kYS8RYIsYSMZaIsUSMJWIsEWOJGEvEWCLGEjGWiLFEjCViLBFjiRhLxFgixhIxloixRIwlYiwRY4kYS8RYIsYSMZaIsUSMJWIsEWOJGEvEWCLGEjGWiLFEjCViLBFjiRhLxFgixhIxloixRIwlYiwRY4kYS8RYIsYSMZaIsUSMJWIsEWOJGEvEWCLGEjGWiLFEjCViLBFjiRhLxFgixhIxloixRIwlYiwRY4kYS8RYIsYSMZaIsUSMJWIsEWOJGEvEWCLGEjGWiLFEjCViLBFjiRhLxFgixhIxloixRIwlYiwRY4kYS8RYIsYSMZaIsUSMJWIsEWOJGEvEWCLGEjGWiLFEjCViLBFjiRhLxFgixhIxloixRIwlYiwRY4kYS8RYIsYSMZaIsUSMJWIsEWOJGEvEWCLGEjGWiLFEjCViLBFjiRhLxFgixhIxloixRIwlYiwRY4kYS8RYIsYSMZaIsUSMJWIsEWOJGEvEWCLGEjGWiLFEjCViLBFjiRhLxFgixhIxloixRIwlYiwRY4kYS8RYIsYSMZaIsUSMJWIsEWOJGEvEWCLGEjGWiLFEjCViLBFjiRhLxFgixhIxloixRIwlYgddpQQBK7pNvgAAAABJRU5ErkJg\">"
      ]
     },
     "metadata": {},
     "execution_count": 1
    }
   ],
   "cell_type": "code",
   "source": [
    "using TestImages, ImageShow, DeepFry, FileIO\n",
    "fabio = testimage(\"fabio\")\n",
    "img = DeepFry.set_contrast(fabio)\n",
    "save(\"assets/set_contrast.png\", img); #hide\n",
    "img #hide"
   ],
   "metadata": {},
   "execution_count": 1
  },
  {
   "cell_type": "markdown",
   "source": [
    "---\n",
    "\n",
    "*This notebook was generated using [Literate.jl](https://github.com/fredrikekre/Literate.jl).*"
   ],
   "metadata": {}
  }
 ],
 "nbformat_minor": 3,
 "metadata": {
  "language_info": {
   "file_extension": ".jl",
   "mimetype": "application/julia",
   "name": "julia",
   "version": "1.9.4"
  },
  "kernelspec": {
   "name": "julia-1.9",
   "display_name": "Julia 1.9.4",
   "language": "julia"
  }
 },
 "nbformat": 4
}
